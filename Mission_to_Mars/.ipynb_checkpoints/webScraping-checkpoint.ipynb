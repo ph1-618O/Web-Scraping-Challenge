{
 "cells": [
  {
   "cell_type": "markdown",
   "metadata": {},
   "source": [
    "# NASA Mars News\n",
    "Scrape the NASA Mars News Site and collect the latest News Title and Paragraph Text. Assign the text to variables that you can reference later.\n",
    "\n",
    "#Example:\n",
    "news_title = \"NASA's Next Mars Mission to Investigate Interior of Red Planet\"\n",
    "\n",
    "news_p = \"Preparation of NASA's next spacecraft to Mars, InSight, has ramped up this summer, on course for launch next May from Vandenberg Air Force Base in central California -- the first interplanetary launch in history from America's West Coast.\""
   ]
  },
  {
   "cell_type": "markdown",
   "metadata": {},
   "source": [
    "# Run Modules \n",
    "- getTypes, \n",
    "- describeData, \n",
    "- analyzeNaNs\n",
    "#Before import"
   ]
  },
  {
   "cell_type": "code",
   "execution_count": 1,
   "metadata": {},
   "outputs": [],
   "source": [
    "#%%writefile getTypes.py\n",
    "# Comment: Write file creates a module that can be imported with dependencies, %%writefile -a getTypes.py, remove if func is changed\n",
    "\n",
    "import pandas as pd\n",
    "import numpy as np\n",
    "import requests\n",
    "import os\n",
    "import json\n",
    "import matplotlib.pyplot as plt\n",
    "from IPython.core.display import HTML\n",
    "from datetime import date, datetime\n",
    "\n",
    "#getTypes analyzes a DataFrame's column types\n",
    "def getTypes(dataFrameName): #0\n",
    "    print('Executing getTypes...')\n",
    "    print('------------------')\n",
    "    dtypesSeries = dataFrameName.dtypes #1\n",
    "    dtypesDF = dtypesSeries.to_frame().reset_index() #2\n",
    "    dtypesDF = dtypesDF.rename(columns={\"index\": \"ColumnName\", 0: \"DataType\"}) #3\n",
    "    columnNames = dtypesDF.columns.tolist() #4\n",
    "    #print(columnNames) #5\n",
    "    newColumns = dtypesDF['DataType'].unique().tolist() #6\n",
    "    dtypesList = [] #7\n",
    "    for i in newColumns:\n",
    "        dtypesList.append(str(i))\n",
    "    print('Unique values in dtypesDF::') #8\n",
    "    print('---------------------------')\n",
    "    for i in dtypesList: \n",
    "        print(i)\n",
    "    print('---------------------------')\n",
    "    print(f'Lenght of dtypesDF:: {len(dtypesDF)}') #9\n",
    "    print('---------------------------')\n",
    "    dtypesDict = {dtypesDF['ColumnName'][i]: dtypesDF['DataType'][i] for i in range(len(dtypesDF['ColumnName']))}\n",
    "    dictSlice = dict(list(dtypesDict.items())[0: 5]) #11\n",
    "    #print(dictSlice)\n",
    "    counter = 0 #12\n",
    "    dtypesGlobalsList = dtypesList\n",
    "    for i in dtypesList: #13\n",
    "        print(f'Global DataFrame Created:: {i}') #14\n",
    "        dtypesGlobalsList = dtypesDF.loc[(dtypesDF['DataType'] == i)] #15\n",
    "        globals()[i] = dtypesGlobalsList #16\n",
    "        globals()[i] = globals()[i].drop(['DataType'], axis=1).reset_index() #17\n",
    "        globals()[i] = globals()[i].rename(columns={\"ColumnName\": i}) #18\n",
    "        globals()[i] = globals()[i].sort_values(i) #19\n",
    "        counter += 1\n",
    "        #display(HTML(globals()[i].to_html())) #20\n",
    "    dtypesSummaryDF = pd.concat([int64, object, float64], axis=1, sort=False) #21\n",
    "    columnName = dtypesSummaryDF.columns.tolist() #22\n",
    "    #print(columnName) #23\n",
    "    counter = 0\n",
    "    removeIndex = []\n",
    "    for i in columnName: #24\n",
    "        if i != 'index':\n",
    "            removeIndex.append(columnName.pop(counter))\n",
    "            counter += 1\n",
    "    #print(removeIndex)\n",
    "    dtypesSummaryDF.drop(columns = removeIndex, inplace=True) #25\n",
    "    print('---------------------------')\n",
    "    print(f'DataFrame Types::')\n",
    "    print('---------------------------')\n",
    "    display(HTML(dtypesSummaryDF.to_html())) #26\n",
    "    \n",
    "# <! getTypes( ):\n",
    "# /0/ getTypes analyzes a DataFrame's column types\n",
    "# /1/ Get dtypes as series\n",
    "# /2/ Make dataframe out of dtypes, output is messy next steps to format\n",
    "# /3/ Rename columns\n",
    "# /4/ Get column names list\n",
    "# /5/ Print column names list\n",
    "# /6/ DataFrame is long and uncompressed attempting to create a smaller one with column names as rows\n",
    "# /7/ Setting up list to get unique data types\n",
    "# /8/ Printing out the unique data types for observation\n",
    "# /9/ Getting length before manipulation\n",
    "# /10/ Creating a Dictionary to Pair values and flip keys/cols and values/rows\n",
    "# /11/ Grabbing a slice of the dictionary to confirm format\n",
    "# /12/ Setting up variables for lists and counter\n",
    "# /13/ For loop to manipulate dtypesList into Global Variables with individual dataframes\n",
    "# /14/ Print statement to confirm globals creation\n",
    "# /15/ Matching the data to the dtypesList/dtypesGlobalList into each new global variable\n",
    "# /16/ Defining globals into dataframes\n",
    "# /17/ Dropping the Datatype column, keeping only Column Name from Original DF\n",
    "# /18/ Renaming the ColumnName column to match the global variable name\n",
    "# /19/ Sorting the ColumnName names alphabetically\n",
    "# /20/ Displaying each dataframe as HTML within Jupyter//must have import statment in dependencies\n",
    "# /21/ Merging/Concatenating global dataframes into one Dataframe\n",
    "# /22/ Creating list of column names to remove extra indicies\n",
    "# /23/ Printing list to confirm\n",
    "# /24/ For loop to pop instances that do not equal 'Index'// This is important because there may be many more dtypes in globals()[i] and there must be duplicates in list to drop all at once\n",
    "# /25/ Dropping removeIndex list\n",
    "# /26/ Displaying Final DF with all original DF column names as Html under their datatype\n",
    "# Comment: by ph1-6180\n",
    "    "
   ]
  },
  {
   "cell_type": "code",
   "execution_count": 2,
   "metadata": {},
   "outputs": [],
   "source": [
    "#%%writefile describeData.py\n",
    "# Comment: Write file creates a module that can be imported with dependencies, %%writefile -a describeData.py appends, remove if func is changed\n",
    "# Comment: This function prints stats for strings and integer value columns\n",
    "import pandas as pd\n",
    "import numpy as np\n",
    "import requests\n",
    "import os\n",
    "import json\n",
    "import matplotlib.pyplot as plt\n",
    "from IPython.core.display import HTML\n",
    "from datetime import date, datetime\n",
    "\n",
    "def describeData(dataFrameName):\n",
    "    print('Executing describeData...')\n",
    "    print('-------------------------------')\n",
    "    global keyHeaders, colsData, stringDescribe, intDescribe, keyStr, KeyInt\n",
    "    keyStr, keyInt, keyHeaders, intDescribe, stringDescribe = [], [], [], [], []\n",
    "    for key, value in dataFrameName.items():\n",
    "        #grabs cols as keys into list\n",
    "        keyHeaders.append(key)\n",
    "    for i in keyHeaders:\n",
    "        #checks the cols data if string\n",
    "        if isinstance(dataFrameName[i][0], (str)):\n",
    "            stringDescribe.append(dataFrameName[keyHeaders][i].describe())\n",
    "        else:\n",
    "            intDescribe.append(dataFrameName[keyHeaders][i].describe())\n",
    "    stringDescribe = pd.DataFrame.from_dict(dict(zip(keyHeaders, stringDescribe)), orient='index')\n",
    "    intDescribe = pd.DataFrame.from_dict(dict(zip(keyHeaders, intDescribe)), orient='index') \n",
    "    #adding pretty print to dataframes, don't forget import statment when copying code\n",
    "    print('-------------------------------')\n",
    "    print('Object Describe Dataframe')\n",
    "    print('-------------------------------')\n",
    "    display(HTML(stringDescribe.to_html()))\n",
    "    #print(stringDescribe)\n",
    "    print('-------------------------------')\n",
    "    print('Integer/FloatDescribe Dataframe')\n",
    "    print('-------------------------------')\n",
    "    display(HTML(intDescribe.to_html()))\n",
    "    #print(intDescribe)\n",
    "    lengthofDF = len(dataFrameName)\n",
    "    print('-------------------------------')\n",
    "    print(f'Dataframe Length: {lengthofDF}')\n",
    "    print('-------------------------------')\n",
    "    columnNames = dataFrameName.columns.tolist()\n",
    "    print(f'ColumnNames: \\n{columnNames}')\n",
    "# Comment: by ph1-6180"
   ]
  },
  {
   "cell_type": "code",
   "execution_count": 3,
   "metadata": {},
   "outputs": [],
   "source": [
    "#%%writefile analyzeNaNs.py\n",
    "# Comment: Write file creates a module that can be imported with dependencies, %%writefile -a analyzeNaNs.py appends, remove if func is changed\n",
    "# Comment: This function analyzes the NaN's in a DF\n",
    "# Comment: Print/Returns a Dataframe with the NaN's count and the list of columns without NaN's\n",
    "import pandas as pd\n",
    "import numpy as np\n",
    "import requests\n",
    "import os\n",
    "import json\n",
    "import matplotlib.pyplot as plt\n",
    "from IPython.core.display import HTML\n",
    "from datetime import date, datetime\n",
    "\n",
    "def analyzeNaNs(dataFrameName):\n",
    "    print('Executing analyzeNaNs...')\n",
    "    print('---------------------')\n",
    "    columnNames = dataFrameName.columns.tolist()\n",
    "    NaNslist = []\n",
    "    noNaNs =[]\n",
    "    counter = 0\n",
    "    for i in columnNames:\n",
    "        colNaNs = dataFrameName[i].isna().sum()\n",
    "        NaNslist.append(colNaNs)\n",
    "        #print(f'{colNaNs} NaNs in {columnNames[counter]}')\n",
    "        counter += 1\n",
    "    #print(NaNslist)\n",
    "    #print(columnNames)\n",
    "    NaNsDF = pd.DataFrame(NaNslist, index = columnNames, columns =['NaNsCount'])\n",
    "    transposeDF = NaNsDF.T\n",
    "    for i in columnNames:\n",
    "        if transposeDF[i][0] == 0:\n",
    "            noNaNs.append(i)\n",
    "            transposeDF = transposeDF.drop([i], axis=1)\n",
    "    print('----------------------')\n",
    "    print('Columns NoNaNs::')\n",
    "    print('----------------------')\n",
    "    for j in range(len(noNaNs)):\n",
    "        alphaCols = sorted(noNaNs)\n",
    "        print(f'{alphaCols[j]}')\n",
    "    print('\\n\\n\\n---------------------')\n",
    "    print('NaNs Count DataFrame::')\n",
    "    print('---------------------')\n",
    "    display(HTML(transposeDF.to_html()))\n",
    "    #print(transposeDF)\n",
    "# Comment: by ph1-6180"
   ]
  },
  {
   "cell_type": "code",
   "execution_count": 4,
   "metadata": {},
   "outputs": [],
   "source": [
    "# !python Modules/getTypes.py\n",
    "# !python Modules/describeData.py\n",
    "# !python Modules/analyzeNaNs.py"
   ]
  },
  {
   "cell_type": "code",
   "execution_count": 6,
   "metadata": {},
   "outputs": [],
   "source": [
    "# Dependencies\n",
    "#import getTypes\n",
    "#import describeData\n",
    "#import analyzeNaNs\n",
    "import pandas as pd\n",
    "import numpy as np\n",
    "import requests\n",
    "import os\n",
    "import json\n",
    "import matplotlib.pyplot as plt\n",
    "from bs4 import BeautifulSoup\n",
    "from IPython.core.display import HTML\n",
    "from datetime import date, datetime"
   ]
  },
  {
   "cell_type": "markdown",
   "metadata": {},
   "source": [
    "PL Mars Space Images - Featured Image\n",
    "\n",
    "Visit the url for JPL Featured Space Image here.\n",
    "https://www.jpl.nasa.gov/spaceimages/?search=&category=Mars\n",
    "\n",
    "PL Mars Space Images - Featured Image\n",
    "\n",
    "\n",
    "Visit the url for JPL Featured Space Image here.\n",
    "https://www.jpl.nasa.gov/spaceimages/?search=&category=Mars\n",
    "\n",
    "\n",
    "Use splinter to navigate the site and find the image url for the current Featured Mars Image and assign the url string to a variable called featured_image_url.\n",
    "\n",
    "\n",
    "Make sure to find the image url to the full size .jpg image.\n",
    "\n",
    "\n",
    "Make sure to save a complete url string for this image.\n",
    "#Example:\n",
    "featured_image_url = 'https://www.jpl.nasa.gov/spaceimages/images/largesize/PIA16225_hires.jpg'"
   ]
  },
  {
   "cell_type": "code",
   "execution_count": null,
   "metadata": {},
   "outputs": [],
   "source": []
  },
  {
   "cell_type": "markdown",
   "metadata": {},
   "source": [
    "Mars Facts\n",
    "\n",
    "\n",
    "Visit the Mars Facts webpage here and use Pandas to scrape the table containing facts about the planet including Diameter, Mass, etc.\n",
    "https://space-facts.com/mars/\n",
    "\n",
    "\n",
    "Use Pandas to convert the data to a HTML table string."
   ]
  },
  {
   "cell_type": "code",
   "execution_count": null,
   "metadata": {},
   "outputs": [],
   "source": []
  },
  {
   "cell_type": "markdown",
   "metadata": {},
   "source": [
    "Mars Hemispheres\n",
    "\n",
    "\n",
    "Visit the USGS Astrogeology site here to obtain high resolution images for each of Mar's hemispheres.\n",
    "https://astrogeology.usgs.gov/search/results?q=hemisphere+enhanced&k1=target&v1=Mars\n",
    "\n",
    "\n",
    "You will need to click each of the links to the hemispheres in order to find the image url to the full resolution image.\n",
    "\n",
    "\n",
    "Save both the image url string for the full resolution hemisphere image, and the Hemisphere title containing the hemisphere name. Use a Python dictionary to store the data using the keys img_url and title.\n",
    "\n",
    "\n",
    "Append the dictionary with the image url string and the hemisphere title to a list. This list will contain one dictionary for each hemisphere.\n",
    "\n",
    "#Example:\n",
    "hemisphere_image_urls = [\n",
    "    {\"title\": \"Valles Marineris Hemisphere\", \"img_url\": \"...\"},\n",
    "    {\"title\": \"Cerberus Hemisphere\", \"img_url\": \"...\"},\n",
    "    {\"title\": \"Schiaparelli Hemisphere\", \"img_url\": \"...\"},\n",
    "    {\"title\": \"Syrtis Major Hemisphere\", \"img_url\": \"...\"},\n",
    "]"
   ]
  },
  {
   "cell_type": "code",
   "execution_count": null,
   "metadata": {},
   "outputs": [],
   "source": []
  },
  {
   "cell_type": "markdown",
   "metadata": {},
   "source": [
    "# FLASK APPLICATION/ MONGO DB\n",
    "\n",
    "Use MongoDB with Flask templating to create a new HTML page that displays all of the information that was scraped from the URLs above."
   ]
  },
  {
   "cell_type": "code",
   "execution_count": null,
   "metadata": {},
   "outputs": [],
   "source": []
  },
  {
   "cell_type": "markdown",
   "metadata": {},
   "source": [
    "Start by converting your Jupyter notebook into a Python script called scrape_mars.py with a function called scrape that will execute all of your scraping code from above and return one Python dictionary containing all of the scraped data."
   ]
  },
  {
   "cell_type": "code",
   "execution_count": null,
   "metadata": {},
   "outputs": [],
   "source": []
  },
  {
   "cell_type": "markdown",
   "metadata": {},
   "source": [
    "Next, create a route called /scrape that will import your scrape_mars.py script and call your scrape function."
   ]
  },
  {
   "cell_type": "code",
   "execution_count": null,
   "metadata": {},
   "outputs": [],
   "source": []
  },
  {
   "cell_type": "markdown",
   "metadata": {},
   "source": [
    "Store the return value in Mongo as a Python dictionary."
   ]
  },
  {
   "cell_type": "code",
   "execution_count": null,
   "metadata": {},
   "outputs": [],
   "source": []
  },
  {
   "cell_type": "markdown",
   "metadata": {},
   "source": [
    "Create a root route / that will query your Mongo database and pass the mars data into an HTML template to display the data."
   ]
  },
  {
   "cell_type": "code",
   "execution_count": null,
   "metadata": {},
   "outputs": [],
   "source": []
  },
  {
   "cell_type": "markdown",
   "metadata": {},
   "source": [
    "Create a template HTML file called index.html that will take the mars data dictionary and display all of the data in the appropriate HTML elements. Use the following as a guide for what the final product should look like, but feel free to create your own design."
   ]
  },
  {
   "cell_type": "code",
   "execution_count": null,
   "metadata": {},
   "outputs": [],
   "source": []
  }
 ],
 "metadata": {
  "kernelspec": {
   "display_name": "Python 3",
   "language": "python",
   "name": "python3"
  },
  "language_info": {
   "codemirror_mode": {
    "name": "ipython",
    "version": 3
   },
   "file_extension": ".py",
   "mimetype": "text/x-python",
   "name": "python",
   "nbconvert_exporter": "python",
   "pygments_lexer": "ipython3",
   "version": "3.7.7"
  }
 },
 "nbformat": 4,
 "nbformat_minor": 4
}
