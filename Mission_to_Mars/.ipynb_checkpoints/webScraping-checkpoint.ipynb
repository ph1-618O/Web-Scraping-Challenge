{
 "cells": [
  {
   "cell_type": "markdown",
   "metadata": {},
   "source": [
    "# Mission to Mars\n",
    "- this program analyzes data from the NASA website"
   ]
  },
  {
   "cell_type": "markdown",
   "metadata": {},
   "source": [
    "# Dependencies"
   ]
  },
  {
   "cell_type": "code",
   "execution_count": 9,
   "metadata": {},
   "outputs": [],
   "source": [
    "import re\n",
    "import pandas as pd\n",
    "import numpy as np\n",
    "import requests\n",
    "import os\n",
    "import json\n",
    "import matplotlib.pyplot as plt\n",
    "from bs4 import BeautifulSoup as bs\n",
    "from splinter import Browser\n",
    "import time\n",
    "from IPython.core.display import HTML\n",
    "from datetime import date, datetime"
   ]
  },
  {
   "cell_type": "markdown",
   "metadata": {},
   "source": [
    "# Browser Assignment"
   ]
  },
  {
   "cell_type": "code",
   "execution_count": 10,
   "metadata": {},
   "outputs": [],
   "source": [
    "# fileName = input(\"Please enter the name of the file you'd like to use.\")\n",
    "# while not os.path.isfile(fileName):\n",
    "#     fileName = input(\"Whoops! No such file! Please enter the name of the file you'd like to use.\")\n",
    "\n",
    "#!which chromedriver\n",
    "\n",
    "# # Open default browser to web page with Mac\n",
    "# !python -m webbrowser -t \"https://mars.nasa.gov/news/\"\n",
    "\n",
    "#driver = webdriver.Chrome(executable_path='usr/local/bin/chromedriver')\n",
    "\n",
    "# Mac\n",
    "# Choose the executable path to driver \n",
    "executable_path = {'executable_path': 'chromedriver'}\n",
    "browser = Browser('chrome', **executable_path, headless=False)\n",
    "\n",
    "# # PC\n",
    "# # Choose the executable path to driver\n",
    "#executable_path = {'executable_path': 'chromedriver.exe'}\n",
    "#browser = Browser('chrome', **executable_path, headless=Fale)\n",
    "\n",
    "#print(executable_path)"
   ]
  },
  {
   "cell_type": "markdown",
   "metadata": {},
   "source": [
    "# NASA Mars News\n",
    "- Scrape the NASA Mars News Site and collect the latest News Title and Paragraph Text. Assign the text to variables for later reference.\n",
    "\n",
    "- #Example:\n",
    "- news_title = \"NASA's Next Mars Mission to Investigate Interior of Red Planet\"\n",
    "\n",
    "- news_p = \"Preparation of NASA's next spacecraft to Mars, InSight, has ramped up this summer, on course for launch next May from Vandenberg Air Force Base in central California -- the first interplanetary launch in history from America's West Coast.\""
   ]
  },
  {
   "cell_type": "code",
   "execution_count": 19,
   "metadata": {},
   "outputs": [
    {
     "name": "stdout",
     "output_type": "stream",
     "text": [
      "News Update on Mars: Mars Now\n",
      "There are 13 headline(s).\n",
      "How many headlines do you want?  20\n",
      "You asked for 20 headline(s)\n",
      "Mars Now\n",
      "Alabama High School Student Names NASA's Mars Helicopter\n",
      "Mars Helicopter Attached to NASA's Perseverance Rover\n",
      "NASA's Perseverance Mars Rover Gets Its Wheels and Air Brakes\n",
      "NASA to Broadcast Mars 2020 Perseverance Launch, Prelaunch Activities\n",
      "The Launch Is Approaching for NASA's Next Mars Rover, Perseverance\n",
      "NASA to Hold Mars 2020 Perseverance Rover Launch Briefing\n",
      "Alabama High School Student Names NASA's Mars Helicopter\n",
      "Mars Helicopter Attached to NASA's Perseverance Rover\n",
      "NASA's Perseverance Mars Rover Gets Its Wheels and Air Brakes\n",
      "NASA to Broadcast Mars 2020 Perseverance Launch, Prelaunch Activities\n",
      "The Launch Is Approaching for NASA's Next Mars Rover, Perseverance\n",
      "NASA to Hold Mars 2020 Perseverance Rover Launch Briefing\n"
     ]
    }
   ],
   "source": [
    "url = \"https://mars.nasa.gov/news/\"\n",
    "browser.visit(url)\n",
    "html = browser.html\n",
    "\n",
    "marsNewsSoup = bs(html, \"html.parser\")\n",
    "# newsLocation = marsNewsSoup.find_all(\"div\", )\n",
    "#print(newsLocation)\n",
    "#marsNewsSoup.findAll('a', attrs={'href': re.compile(\"^http://\")})\n",
    "# aSoup = marsNewsSoup.find_all('a')\n",
    "# aSoup[0].attrs['href']\n",
    "# for t in aSoup:\n",
    "#     print(t.text)\n",
    "#Getting the most recent headline\n",
    "headlineListN =[]\n",
    "recentHeadline = marsNewsSoup.find_all(\"div\", attrs={'href'}, class_=\"content_title\")\n",
    "print(f'News Update on Mars: {recentHeadline[0].text}')\n",
    "for t in recentHeadline:\n",
    "    headlineListN.append(t.text)\n",
    "    #print(t.text)\n",
    "headlineList = []\n",
    "#print(\"Headline List::\")\n",
    "for i in headlineListN:\n",
    "    headlineList.append(i.strip('\\n'))\n",
    "    #print(i.strip('\\n'))\n",
    "#print(headlineList)\n",
    "print(f'There are {len(headlineList)} headline(s).')\n",
    "howManyHeadline = input(\"How many headlines do you want?  \")\n",
    "print(f'You asked for {howManyHeadline} headline(s)')\n",
    "runLines = headlineList[:int(howManyHeadline)]\n",
    "for i in runLines:\n",
    "    print(i)\n",
    "    \n"
   ]
  },
  {
   "cell_type": "markdown",
   "metadata": {},
   "source": [
    "# Featured Image"
   ]
  },
  {
   "cell_type": "markdown",
   "metadata": {},
   "source": [
    "- PL Mars Space Images - Featured Image\n",
    "- Visit the url for JPL Featured Space Image here.\n",
    "-  https://www.jpl.nasa.gov/spaceimages/?search=&category=Mars\n",
    "- Using splinter to navigate the site to find the image url for the current Featured Mars Image\n",
    "- Assigning the url string to a variable called featured_image_url.\n",
    "- #Example:\n",
    "- featured_image_url = 'https://www.jpl.nasa.gov/spaceimages/images/largesize/PIA16225_hires.jpg'"
   ]
  },
  {
   "cell_type": "code",
   "execution_count": null,
   "metadata": {},
   "outputs": [],
   "source": [
    "url = \"https://www.jpl.nasa.gov/spaceimages/?search=&category=Mars\"\n",
    "response = requests.get(url)\n",
    "soup = bs(response.text, 'html.parser')\n",
    "print(soup.prettify())"
   ]
  },
  {
   "cell_type": "code",
   "execution_count": null,
   "metadata": {},
   "outputs": [],
   "source": [
    "imagePartial = \"https://www.jpl.nasa.gov\"\n",
    "imageUrl = imagePartial + \"/spaceimages/?search=&category=Mars\"\n",
    "browser.visit(imageUrl)\n",
    "browser.click_link_by_partial_text('FULL IMAGE')\n",
    "expand = browser.find_by_css('a.fancybox-expand')\n",
    "\n",
    "imageSearch = browser.html\n",
    "imageSoup = bs(imageSearch, 'html.parser')\n",
    "results = imageSoup.find('img', {\"class\":\"fancybox-image\"})['src']\n"
   ]
  },
  {
   "cell_type": "code",
   "execution_count": null,
   "metadata": {},
   "outputs": [],
   "source": [
    "fullImageLink = imagePartial + results\n",
    "print(fullImageLink)\n",
    "print(f'{imagePartial}{results}')"
   ]
  },
  {
   "cell_type": "code",
   "execution_count": null,
   "metadata": {
    "scrolled": true
   },
   "outputs": [],
   "source": [
    "len(results)"
   ]
  },
  {
   "cell_type": "code",
   "execution_count": null,
   "metadata": {},
   "outputs": [],
   "source": []
  },
  {
   "cell_type": "markdown",
   "metadata": {},
   "source": [
    "# Mars Facts\n",
    "\n",
    "\n",
    "Visit the Mars Facts webpage here and use Pandas to scrape the table containing facts about the planet including Diameter, Mass, etc.\n",
    "https://space-facts.com/mars/\n",
    "\n",
    "\n",
    "Use Pandas to convert the data to a HTML table string."
   ]
  },
  {
   "cell_type": "code",
   "execution_count": null,
   "metadata": {},
   "outputs": [],
   "source": [
    "marsDataUrl = \"https://space-facts.com/mars/\""
   ]
  },
  {
   "cell_type": "code",
   "execution_count": null,
   "metadata": {},
   "outputs": [],
   "source": [
    "response = requests.get(marsDataUrl)\n",
    "soupResponse = bs(response.text, 'html.parser')\n",
    "#print(soupResponse.prettify())"
   ]
  },
  {
   "cell_type": "code",
   "execution_count": null,
   "metadata": {},
   "outputs": [],
   "source": [
    "browser.visit(marsDataUrl)\n",
    "marsDataSearch = browser.html\n",
    "marsDataSoup = bs(marsDataSearch, 'html.parser')"
   ]
  },
  {
   "cell_type": "code",
   "execution_count": null,
   "metadata": {},
   "outputs": [],
   "source": [
    "#Printing response as string to analyze\n",
    "strMars = str(marsDataSoup.find_all())\n",
    "print(type(strMars))\n",
    "htmlStringLength = len(strMars)\n",
    "print(type(htmlStringLength))\n",
    "print(htmlStringLength)\n",
    "partialHTML = int(htmlStringLength * .10/100)\n",
    "print(strMars[:partialHTML])"
   ]
  },
  {
   "cell_type": "code",
   "execution_count": null,
   "metadata": {},
   "outputs": [],
   "source": [
    "#Writing response to HTML file to view\n",
    "htmlFile = open(\"response.html\", \"w\")\n",
    "htmlFile .write(strMars)\n",
    "htmlFile.close()"
   ]
  },
  {
   "cell_type": "code",
   "execution_count": null,
   "metadata": {},
   "outputs": [],
   "source": [
    "browser.visit(marsDataUrl)\n",
    "marsDataSearch = browser.html\n",
    "marsDataSoup = bs(marsDataSearch, 'html.parser')\n",
    "results = marsDataSoup.find('table', {\"class\":\"tablepress\"})\n",
    "marsList = pd.read_html(marsDataUrl)\n",
    "print(type(marsList))\n",
    "#print(marsList)"
   ]
  },
  {
   "cell_type": "code",
   "execution_count": null,
   "metadata": {},
   "outputs": [],
   "source": [
    "# len(marsList)\n",
    "# marsList[1]"
   ]
  },
  {
   "cell_type": "code",
   "execution_count": null,
   "metadata": {},
   "outputs": [],
   "source": [
    "marsList[1]\n",
    "marsDict = dict(marsList[1])\n",
    "#marsDict[1]\n",
    "marsComparisonDF = pd.DataFrame.from_dict(marsDict)\n",
    "#print(type(marsComparisonDF))\n",
    "marsComparisonDF"
   ]
  },
  {
   "cell_type": "code",
   "execution_count": null,
   "metadata": {},
   "outputs": [],
   "source": [
    "marsDict = dict(marsList[0])\n",
    "#marsDict[1]\n",
    "marsDF = pd.DataFrame.from_dict(marsDict)\n",
    "print(type(marsDF))\n",
    "marsDF = marsDF.rename(columns = {0: \"Measurement\", 1:\"Value\"})\n",
    "marsDF"
   ]
  },
  {
   "cell_type": "code",
   "execution_count": null,
   "metadata": {},
   "outputs": [],
   "source": []
  },
  {
   "cell_type": "markdown",
   "metadata": {},
   "source": [
    "# Mars Hemispheres\n",
    "\n",
    "\n",
    "Visit the USGS Astrogeology site here to obtain high resolution images for each of Mar's hemispheres.\n",
    "https://astrogeology.usgs.gov/search/results?q=hemisphere+enhanced&k1=target&v1=Mars\n",
    "\n",
    "\n",
    "You will need to click each of the links to the hemispheres in order to find the image url to the full resolution image.\n",
    "\n",
    "\n",
    "Save both the image url string for the full resolution hemisphere image, and the Hemisphere title containing the hemisphere name. Use a Python dictionary to store the data using the keys img_url and title.\n",
    "\n",
    "\n",
    "Append the dictionary with the image url string and the hemisphere title to a list. This list will contain one dictionary for each hemisphere.\n",
    "\n",
    "#Example:\n",
    "hemisphere_image_urls = [\n",
    "    {\"title\": \"Valles Marineris Hemisphere\", \"img_url\": \"...\"},\n",
    "    {\"title\": \"Cerberus Hemisphere\", \"img_url\": \"...\"},\n",
    "    {\"title\": \"Schiaparelli Hemisphere\", \"img_url\": \"...\"},\n",
    "    {\"title\": \"Syrtis Major Hemisphere\", \"img_url\": \"...\"},\n",
    "]"
   ]
  },
  {
   "cell_type": "code",
   "execution_count": null,
   "metadata": {},
   "outputs": [],
   "source": [
    "# hemiURL = \"https://astrogeology.usgs.gov/search/results?q=hemisphere+enhanced&k1=target&v1=Mars\"\n",
    "# browser.visit(hemiURL)\n",
    "# hemiSearch = browser.html\n",
    "# hemiSoup = bs(hemiSearch, 'html.parser')"
   ]
  },
  {
   "cell_type": "code",
   "execution_count": null,
   "metadata": {},
   "outputs": [],
   "source": [
    "# browser.click_link_by_partial_text('FULL IMAGE')\n",
    "# expand = browser.find_by_css('a.fancybox-expand')\n",
    "\n",
    "# imageSearch = browser.html\n",
    "# imageSoup = bs(imageSearch, 'html.parser')\n",
    "# results = imageSoup.find('img', {\"class\":\"fancybox-image\"})['src']"
   ]
  },
  {
   "cell_type": "code",
   "execution_count": null,
   "metadata": {},
   "outputs": [],
   "source": [
    "hemisphereDicts = {\"Reason\":\"Website down unable to scrape\"}"
   ]
  },
  {
   "cell_type": "markdown",
   "metadata": {},
   "source": [
    "# FLASK APPLICATION/ MONGO DB\n",
    "\n",
    "Use MongoDB with Flask templating to create a new HTML page that displays all of the information that was scraped from the URLs above."
   ]
  },
  {
   "cell_type": "code",
   "execution_count": null,
   "metadata": {},
   "outputs": [],
   "source": [
    "print(fullImageLink)"
   ]
  },
  {
   "cell_type": "code",
   "execution_count": null,
   "metadata": {},
   "outputs": [],
   "source": [
    "marsComparisonDF"
   ]
  },
  {
   "cell_type": "code",
   "execution_count": null,
   "metadata": {},
   "outputs": [],
   "source": [
    "marsCompareDict = marsComparisonDF.to_dict()\n",
    "marsCompareDict"
   ]
  },
  {
   "cell_type": "code",
   "execution_count": null,
   "metadata": {},
   "outputs": [],
   "source": [
    "marsDF"
   ]
  },
  {
   "cell_type": "code",
   "execution_count": null,
   "metadata": {},
   "outputs": [],
   "source": [
    "marsDict = marsDF.to_dict()\n",
    "marsDict"
   ]
  },
  {
   "cell_type": "code",
   "execution_count": null,
   "metadata": {},
   "outputs": [],
   "source": [
    "exportDict = {\n",
    "    \"headlines\": headlineList, \n",
    "    \"imageLink\": fullImageLink, \n",
    "    \"DF1\": marsDict, \n",
    "    \"DF2\": marsCompareDict, \n",
    "    \"hemi\": hemisphereDicts}"
   ]
  },
  {
   "cell_type": "code",
   "execution_count": null,
   "metadata": {},
   "outputs": [],
   "source": [
    "#exportDict"
   ]
  },
  {
   "cell_type": "markdown",
   "metadata": {},
   "source": [
    "# Convert .ipynb to .py"
   ]
  },
  {
   "cell_type": "markdown",
   "metadata": {},
   "source": [
    "Converting Jupyter notebook into a Python script called scrape_mars.py with a function called scrape that will execute all of the scraping code from above and return one Python dictionary containing all of the scraped data."
   ]
  },
  {
   "cell_type": "code",
   "execution_count": null,
   "metadata": {},
   "outputs": [],
   "source": [
    "# %load scrape_mars.py"
   ]
  },
  {
   "cell_type": "code",
   "execution_count": null,
   "metadata": {},
   "outputs": [],
   "source": [
    "# #installing jupyter notebook converter\n",
    "# !pip install nbconvert"
   ]
  },
  {
   "cell_type": "code",
   "execution_count": null,
   "metadata": {},
   "outputs": [],
   "source": [
    "#conda install nbconvert"
   ]
  },
  {
   "cell_type": "code",
   "execution_count": null,
   "metadata": {},
   "outputs": [],
   "source": [
    "# #converting ipynb to py\n",
    "# !jupyter nbconvert --to python webScraping.ipynb"
   ]
  },
  {
   "cell_type": "code",
   "execution_count": null,
   "metadata": {},
   "outputs": [],
   "source": [
    "# #renaming ipynb to scrape_mars.py\n",
    "# !mv webScraping.py scrape_mars.py"
   ]
  },
  {
   "cell_type": "code",
   "execution_count": null,
   "metadata": {},
   "outputs": [],
   "source": [
    "# %%writefile scrape_mars.py"
   ]
  },
  {
   "cell_type": "code",
   "execution_count": null,
   "metadata": {},
   "outputs": [],
   "source": [
    "#file copied from internet, link does not work on Chrome or Firefox\n",
    "get_hemispheres =\"https://astrogeology.usgs.gov/search/results?q=hemisphere+enhanced&k1=target&v1=Mars\"\n",
    "full_path = \"/Users/Jen/Desktop/GWU/1_Homework/webScraping/Web-Scraping-Challenge/Mission_to_Mars/hemispheres_page.html\"\n",
    "# Read HTML from file\n",
    "filepath = os.path.join(\"Resources/hemispheres_page.html\")\n",
    "with open(filepath) as file:\n",
    "    html = file.read()\n",
    "# Create a Beautiful Soup object\n",
    "soup = bs(html, 'html')"
   ]
  },
  {
   "cell_type": "code",
   "execution_count": null,
   "metadata": {},
   "outputs": [],
   "source": [
    "soup"
   ]
  },
  {
   "cell_type": "markdown",
   "metadata": {},
   "source": [
    "# Flask App\n",
    "- Creating a route called /scrape that will import scrape_mars.py script and call the scrape function.\n",
    "- Storing the return value in Mongo as a Python dictionary.\n",
    "- Creating a root route / that will query the Mongo database and pass the mars data into an HTML template to display the data."
   ]
  },
  {
   "cell_type": "markdown",
   "metadata": {},
   "source": [
    "# Html Results"
   ]
  },
  {
   "cell_type": "markdown",
   "metadata": {},
   "source": [
    "- Creating a template HTML file called index.html \n",
    "- Returning mars data dictionary and displays the data in HTML elements"
   ]
  },
  {
   "cell_type": "code",
   "execution_count": null,
   "metadata": {},
   "outputs": [],
   "source": []
  }
 ],
 "metadata": {
  "kernelspec": {
   "display_name": "Python 3",
   "language": "python",
   "name": "python3"
  },
  "language_info": {
   "codemirror_mode": {
    "name": "ipython",
    "version": 3
   },
   "file_extension": ".py",
   "mimetype": "text/x-python",
   "name": "python",
   "nbconvert_exporter": "python",
   "pygments_lexer": "ipython3",
   "version": "3.7.7"
  }
 },
 "nbformat": 4,
 "nbformat_minor": 4
}
